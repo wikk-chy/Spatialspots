{
 "cells": [
  {
   "cell_type": "code",
   "execution_count": 1,
   "metadata": {},
   "outputs": [],
   "source": [
    "import os\n",
    "import pandas as pd\n",
    "from SpatialSpots import calculate_kde"
   ]
  },
  {
   "cell_type": "code",
   "execution_count": 2,
   "metadata": {},
   "outputs": [],
   "source": [
    "from SpatialSpots import calculate_morans_i\n",
    "from SpatialSpots import calculate_correlation\n",
    "from SpatialSpots import calculate_wasserstein_distance"
   ]
  },
  {
   "cell_type": "code",
   "execution_count": 3,
   "metadata": {},
   "outputs": [],
   "source": [
    "df = pd.read_csv('./test.csv')"
   ]
  },
  {
   "cell_type": "code",
   "execution_count": 7,
   "metadata": {},
   "outputs": [
    {
     "name": "stderr",
     "output_type": "stream",
     "text": [
      "100%|██████████| 3/3 [00:03<00:00,  1.25s/it]\n"
     ]
    },
    {
     "name": "stdout",
     "output_type": "stream",
     "text": [
      "Results saved to ./test_combined_morans_i_results.csv\n"
     ]
    }
   ],
   "source": [
    "sample = 'test'\n",
    "genes = ['PB2', 'Col4a1','M']\n",
    "results = []\n",
    "\n",
    "xy, densities = calculate_kde(df, genes=genes, bandwidth=2, grid_size=10)\n",
    "\n",
    "for i, gene in enumerate(genes):\n",
    "    morans_i = calculate_morans_i(xy, densities[i], threshold_distance=50)\n",
    "    results.append({\n",
    "        'sample': sample,\n",
    "        'gene': gene,\n",
    "        'morans_i': morans_i\n",
    "    })\n",
    "\n",
    "results_df = pd.DataFrame(results)\n",
    "output_path = './test_combined_morans_i_results.csv'\n",
    "results_df.to_csv(output_path, index=False)\n",
    "\n",
    "print(f\"Results saved to {output_path}\")"
   ]
  },
  {
   "cell_type": "code",
   "execution_count": 5,
   "metadata": {},
   "outputs": [
    {
     "name": "stderr",
     "output_type": "stream",
     "text": [
      "100%|██████████| 3/3 [00:03<00:00,  1.25s/it]\n",
      "Calculating Correlation: 100%|██████████| 3/3 [00:00<00:00, 387.64it/s]\n"
     ]
    }
   ],
   "source": [
    "genes = ['PB2', 'Col4a1','M']\n",
    "\n",
    "df = pd.read_csv('./test.csv')\n",
    "xy, densities = calculate_kde(df, genes, bandwidth=2, grid_size=10)\n",
    "correlation = calculate_correlation(densities, genes=genes)\n",
    "correlation_df = pd.DataFrame(correlation, index=genes, columns=genes)\n",
    "\n",
    "correlation_df.to_csv('test_correlation.csv')"
   ]
  },
  {
   "cell_type": "code",
   "execution_count": 6,
   "metadata": {},
   "outputs": [
    {
     "name": "stderr",
     "output_type": "stream",
     "text": [
      "100%|██████████| 3/3 [00:00<00:00,  8.71it/s]"
     ]
    },
    {
     "name": "stdout",
     "output_type": "stream",
     "text": [
      "[[   0.         3706.60091831 3957.28724443]\n",
      " [3706.60091831    0.         3763.06145831]\n",
      " [3957.28724443 3763.06145831    0.        ]]\n"
     ]
    },
    {
     "name": "stderr",
     "output_type": "stream",
     "text": [
      "\n"
     ]
    }
   ],
   "source": [
    "w_dis = calculate_wasserstein_distance(densities, xy, genes=genes)\n",
    "print(w_dis)"
   ]
  }
 ],
 "metadata": {
  "kernelspec": {
   "display_name": "sopa",
   "language": "python",
   "name": "python3"
  },
  "language_info": {
   "codemirror_mode": {
    "name": "ipython",
    "version": 3
   },
   "file_extension": ".py",
   "mimetype": "text/x-python",
   "name": "python",
   "nbconvert_exporter": "python",
   "pygments_lexer": "ipython3",
   "version": "3.10.13"
  }
 },
 "nbformat": 4,
 "nbformat_minor": 2
}
